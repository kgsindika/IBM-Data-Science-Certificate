{
 "cells": [
  {
   "cell_type": "code",
   "execution_count": 1,
   "id": "881e5193",
   "metadata": {},
   "outputs": [],
   "source": [
    "import mysql.connector"
   ]
  },
  {
   "cell_type": "code",
   "execution_count": 2,
   "id": "589e5882",
   "metadata": {},
   "outputs": [],
   "source": [
    "mydb = mysql.connector.connect(\n",
    "  host=\"localhost\",\n",
    "  user=\"hbstudent\",\n",
    "  password=\"hbstudent\",\n",
    "  database=\"ibm_datascience\"\n",
    ")\n",
    "\n",
    "mycursor = mydb.cursor()"
   ]
  },
  {
   "cell_type": "code",
   "execution_count": 3,
   "id": "3b91cb18",
   "metadata": {},
   "outputs": [
    {
     "name": "stdout",
     "output_type": "stream",
     "text": [
      "(566,)\n"
     ]
    }
   ],
   "source": [
    "mycursor.execute(\"SELECT count(*) FROM chicagopublicschools\")\n",
    "\n",
    "myresult = mycursor.fetchall()\n",
    "\n",
    "for x in myresult:\n",
    "  print(x)"
   ]
  },
  {
   "cell_type": "code",
   "execution_count": 4,
   "id": "347c52fb",
   "metadata": {},
   "outputs": [
    {
     "name": "stdout",
     "output_type": "stream",
     "text": [
      "(533,)\n"
     ]
    }
   ],
   "source": [
    "mycursor.execute(\"SELECT count(*) FROM crimedata\")\n",
    "\n",
    "myresult = mycursor.fetchall()\n",
    "\n",
    "for x in myresult:\n",
    "  print(x)"
   ]
  },
  {
   "cell_type": "code",
   "execution_count": 5,
   "id": "2d2b5c0e",
   "metadata": {},
   "outputs": [
    {
     "name": "stdout",
     "output_type": "stream",
     "text": [
      "(26, 'West Garfield Park')\n",
      "(30, 'South Lawndale')\n",
      "(37, 'Fuller Park')\n",
      "(54, 'Riverdale')\n"
     ]
    }
   ],
   "source": [
    "mycursor.execute(\"SELECT COMMUNITY_AREA_NUMBER, COMMUNITY_AREA_NAME FROM chicagocensusdata WHERE PER_CAPITA_INCOME < 11000\")\n",
    "\n",
    "myresult = mycursor.fetchall()\n",
    "\n",
    "for x in myresult:\n",
    "  print(x)"
   ]
  },
  {
   "cell_type": "code",
   "execution_count": 6,
   "id": "84ff579d",
   "metadata": {},
   "outputs": [
    {
     "name": "stdout",
     "output_type": "stream",
     "text": [
      "('HL266884',)\n",
      "('HK238408',)\n"
     ]
    }
   ],
   "source": [
    "mycursor.execute('SELECT CASE_NUMBER FROM ibm_datascience.crimedata where DESCRIPTION like \"%minor%\"')\n",
    "\n",
    "myresult = mycursor.fetchall()\n",
    "\n",
    "for x in myresult:\n",
    "  print(x)"
   ]
  },
  {
   "cell_type": "code",
   "execution_count": 7,
   "id": "ff87fe7e",
   "metadata": {},
   "outputs": [
    {
     "name": "stdout",
     "output_type": "stream",
     "text": [
      "(5276766, 'HN144152', datetime.datetime(2007, 1, 26, 0, 0), '050XX W VAN BUREN ST', '1792', 'KIDNAPPING', 'CHILD ABDUCTION/STRANGER', 'STREET', 'FALSE', 'FALSE', 1533, 15, 29, 25, '20', 1143050, 1897546, 2007, 41.87490841, -87.75024931, '(41.874908413, -87.750249307)')\n"
     ]
    }
   ],
   "source": [
    "mycursor.execute('SELECT * FROM ibm_datascience.crimedata where PRIMARY_TYPE like \"KIDNAPPING\"')\n",
    "\n",
    "myresult = mycursor.fetchall()\n",
    "\n",
    "for x in myresult:\n",
    "  print(x)"
   ]
  },
  {
   "cell_type": "code",
   "execution_count": 8,
   "id": "89906f67",
   "metadata": {},
   "outputs": [
    {
     "name": "stdout",
     "output_type": "stream",
     "text": [
      "('BATTERY',)\n",
      "('CRIMINAL DAMAGE',)\n",
      "('NARCOTICS',)\n",
      "('ASSAULT',)\n",
      "('CRIMINAL TRESPASS',)\n",
      "('PUBLIC PEACE VIOLATION',)\n"
     ]
    }
   ],
   "source": [
    "mycursor.execute('SELECT distinct(PRIMARY_TYPE) FROM ibm_datascience.crimedata where LOCATION_DESCRIPTION like \"%SCHOOL%\"')\n",
    "\n",
    "myresult = mycursor.fetchall()\n",
    "\n",
    "for x in myresult:\n",
    "  print(x)"
   ]
  },
  {
   "cell_type": "code",
   "execution_count": 9,
   "id": "5b025c2b",
   "metadata": {},
   "outputs": [
    {
     "name": "stdout",
     "output_type": "stream",
     "text": [
      "(54, 'Riverdale', 5.8, 56.5, 34.6, 27.5, 51.5, 8201, 98)\n",
      "(37, 'Fuller Park', 3.2, 51.2, 33.9, 26.6, 44.9, 10432, 97)\n",
      "(68, 'Englewood', 3.8, 46.6, 28.0, 28.5, 42.5, 11888, 94)\n",
      "(29, 'North Lawndale', 7.4, 43.1, 21.2, 27.6, 42.7, 12034, 87)\n",
      "(27, 'East Garfield Park', 8.2, 42.4, 19.6, 21.3, 43.2, 12961, 83)\n"
     ]
    }
   ],
   "source": [
    "mycursor.execute('SELECT * FROM chicagocensusdata order by PERCENT_HOUSEHOLDS_BELOW_POVERTY desc limit 5')\n",
    "\n",
    "myresult = mycursor.fetchall()\n",
    "\n",
    "for x in myresult:\n",
    "  print(x)"
   ]
  },
  {
   "cell_type": "code",
   "execution_count": 10,
   "id": "b455fb0d",
   "metadata": {},
   "outputs": [
    {
     "name": "stdout",
     "output_type": "stream",
     "text": [
      "(25, 43)\n"
     ]
    }
   ],
   "source": [
    "mycursor.execute('''SELECT COMMUNITY_AREA_NUMBER, count(COMMUNITY_AREA_NUMBER) as COMMUNITY_COUNT FROM crimedata \n",
    "                 group by COMMUNITY_AREA_NUMBER order by COMMUNITY_COUNT desc limit 1''')\n",
    "\n",
    "myresult = mycursor.fetchall()\n",
    "\n",
    "for x in myresult:\n",
    "  print(x)"
   ]
  },
  {
   "cell_type": "code",
   "execution_count": 11,
   "id": "39e9091e",
   "metadata": {},
   "outputs": [
    {
     "name": "stdout",
     "output_type": "stream",
     "text": [
      "('Riverdale', 98)\n"
     ]
    }
   ],
   "source": [
    "mycursor.execute('''SELECT COMMUNITY_AREA_NAME, HARDSHIP_INDEX FROM chicagocensusdata WHERE \n",
    "           HARDSHIP_INDEX = (SELECT HARDSHIP_INDEX FROM chicagocensusdata ORDER BY HARDSHIP_INDEX DESC LIMIT 1)''')\n",
    "\n",
    "myresult = mycursor.fetchall()\n",
    "\n",
    "for x in myresult:\n",
    "  print(x)"
   ]
  },
  {
   "cell_type": "code",
   "execution_count": 12,
   "id": "63639ed6",
   "metadata": {},
   "outputs": [
    {
     "name": "stdout",
     "output_type": "stream",
     "text": [
      "(25, 43, 'Austin')\n"
     ]
    }
   ],
   "source": [
    "mycursor.execute('''SELECT COMMUNITY_AREA_NUMBER, count(COMMUNITY_AREA_NUMBER) AS COMMUNITY_COUNT , \n",
    "        (SELECT COMMUNITY_AREA_NAME FROM chicagocensusdata WHERE \n",
    "        chicagocensusdata.COMMUNITY_AREA_NUMBER = crimedata.COMMUNITY_AREA_NUMBER) AS COMMUNITY_NAME \n",
    "FROM ibm_datascience.crimedata GROUP BY COMMUNITY_AREA_NUMBER ORDER BY COMMUNITY_COUNT DESC LIMIT 1''')\n",
    "\n",
    "myresult = mycursor.fetchall()\n",
    "\n",
    "for x in myresult:\n",
    "  print(x)\n"
   ]
  },
  {
   "cell_type": "code",
   "execution_count": 1,
   "id": "08fb2bc6",
   "metadata": {},
   "outputs": [
    {
     "data": {
      "text/plain": [
       "3"
      ]
     },
     "execution_count": 1,
     "metadata": {},
     "output_type": "execute_result"
    }
   ],
   "source": [
    "int(3.99)"
   ]
  },
  {
   "cell_type": "code",
   "execution_count": 3,
   "id": "d6dcda8a",
   "metadata": {},
   "outputs": [
    {
     "name": "stderr",
     "output_type": "stream",
     "text": [
      "C:\\Users\\Indika\\AppData\\Local\\Temp\\ipykernel_9072\\3995254365.py:4: RuntimeWarning: divide by zero encountered in true_divide\n",
      "  a/b\n"
     ]
    },
    {
     "data": {
      "text/plain": [
       "array([ 0., inf,  0., inf,  0.])"
      ]
     },
     "execution_count": 3,
     "metadata": {},
     "output_type": "execute_result"
    }
   ],
   "source": [
    "import numpy as np\n",
    "a=np.array([0,1,0,1,0]) \n",
    "b=np.array([1,0,1,0,1]) \n",
    "a/b"
   ]
  },
  {
   "cell_type": "code",
   "execution_count": null,
   "id": "4d6a7d1d",
   "metadata": {},
   "outputs": [],
   "source": []
  }
 ],
 "metadata": {
  "kernelspec": {
   "display_name": "Python 3 (ipykernel)",
   "language": "python",
   "name": "python3"
  },
  "language_info": {
   "codemirror_mode": {
    "name": "ipython",
    "version": 3
   },
   "file_extension": ".py",
   "mimetype": "text/x-python",
   "name": "python",
   "nbconvert_exporter": "python",
   "pygments_lexer": "ipython3",
   "version": "3.9.13"
  }
 },
 "nbformat": 4,
 "nbformat_minor": 5
}
